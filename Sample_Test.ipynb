{
 "cells": [
  {
   "cell_type": "code",
   "execution_count": 28,
   "id": "e2c60873-6943-452a-9c22-0e818970f170",
   "metadata": {
    "panel-layout": {
     "height": 0,
     "visible": true,
     "width": 100
    }
   },
   "outputs": [
    {
     "name": "stdout",
     "output_type": "stream",
     "text": [
      "{'hello': 5, 'evryone': 7, 'all': 3, 'the': 3, 'best': 4}\n"
     ]
    }
   ],
   "source": [
    "# 1].use a dictionary comprehension to count the length of each word in a sentence\n",
    "\n",
    "St = [\"hello\", \"evryone\", \"all\", \"the\", \"best\"]\n",
    "word_length = {word: len(word) for word in St}\n",
    "print(word_length)"
   ]
  },
  {
   "cell_type": "markdown",
   "id": "ee27005e-55ad-4d0b-af87-82487ce09160",
   "metadata": {},
   "source": [
    "2]Difference between covarience and correlation\n",
    "--> covarience - Not Standardized\n",
    "    correlation - Standardized"
   ]
  },
  {
   "cell_type": "markdown",
   "id": "a68cc5e2-f293-4ed9-8114-84d7449191b9",
   "metadata": {},
   "source": [
    "3]what is CLT?\n",
    "--> Central Limit Therom is states the sampling distribution of the sample mean"
   ]
  },
  {
   "cell_type": "markdown",
   "id": "a2e58802-4bef-43ba-90fa-51075aece3ad",
   "metadata": {},
   "source": [
    "4]Two main difference between set and dictionary?\n",
    "--> 1]structure\n",
    "    2]"
   ]
  },
  {
   "cell_type": "markdown",
   "id": "c044ff19-e807-40ae-921e-6ac84ab95e34",
   "metadata": {},
   "source": [
    "5]Difference between linspace and arrange? example"
   ]
  },
  {
   "cell_type": "markdown",
   "id": "d8e8e3ec-12b8-4d51-b70b-fbb28b81d807",
   "metadata": {},
   "source": [
    "6]what is type1 error?"
   ]
  },
  {
   "cell_type": "markdown",
   "id": "fd7fa428-359c-4ca6-bb17-7a8d1030037e",
   "metadata": {},
   "source": [
    "7]fuction to find the outlier in the dataset?[lower limit and upper limit]\n",
    "--> IQR method"
   ]
  },
  {
   "cell_type": "markdown",
   "id": "05197ada-421a-431d-b183-f0df6c1f91d7",
   "metadata": {},
   "source": [
    "8]Statistical test to cheak if data is normally distributed?[name of the test]\n",
    "--> shapiro test"
   ]
  },
  {
   "cell_type": "markdown",
   "id": "8843ef82-0a25-4855-b4d3-c5fb332bfb0a",
   "metadata": {},
   "source": [
    "9]List the assumption of linear regression?"
   ]
  },
  {
   "cell_type": "raw",
   "id": "6bc5faa9-5018-4477-aac1-142ebac27b39",
   "metadata": {},
   "source": [
    "10]what is entrophy and information gain? Formula"
   ]
  },
  {
   "cell_type": "code",
   "execution_count": null,
   "id": "dfde94e8-aabd-4290-bc8a-ae5ad99e8375",
   "metadata": {},
   "outputs": [],
   "source": []
  },
  {
   "cell_type": "code",
   "execution_count": null,
   "id": "0f61562b-6a27-45ce-91a2-7873785c3256",
   "metadata": {},
   "outputs": [],
   "source": []
  }
 ],
 "metadata": {
  "kernelspec": {
   "display_name": "Python [conda env:base] *",
   "language": "python",
   "name": "conda-base-py"
  },
  "language_info": {
   "codemirror_mode": {
    "name": "ipython",
    "version": 3
   },
   "file_extension": ".py",
   "mimetype": "text/x-python",
   "name": "python",
   "nbconvert_exporter": "python",
   "pygments_lexer": "ipython3",
   "version": "3.12.7"
  },
  "panel-cell-order": [
   "e2c60873-6943-452a-9c22-0e818970f170"
  ]
 },
 "nbformat": 4,
 "nbformat_minor": 5
}
