{
 "cells": [
  {
   "cell_type": "code",
   "execution_count": 28,
   "id": "e64ce185-96e2-45fb-a899-9080807eed3c",
   "metadata": {},
   "outputs": [],
   "source": [
    "import pandas as pd\n",
    "import numpy as np"
   ]
  },
  {
   "cell_type": "code",
   "execution_count": 96,
   "id": "920b56ff-73b8-4679-a5f4-fc5e08a4e479",
   "metadata": {},
   "outputs": [
    {
     "data": {
      "text/plain": [
       "[4, 3]"
      ]
     },
     "execution_count": 96,
     "metadata": {},
     "output_type": "execute_result"
    }
   ],
   "source": [
    "# 1]\n",
    "data = {'Name': ['jayesh', 'vishal', 'Om'],\n",
    "    'Age': [20, 21, 22]}\n",
    "\n",
    "\n",
    "c_count = [len(i) for i in data]\n",
    "c_count\n"
   ]
  },
  {
   "cell_type": "code",
   "execution_count": 2,
   "id": "84a37978-eddf-4e87-8fc9-bcf12f3c5e0f",
   "metadata": {},
   "outputs": [],
   "source": [
    "# 2]"
   ]
  },
  {
   "cell_type": "code",
   "execution_count": 98,
   "id": "88b5dace-47d4-4754-9fe1-a96194544623",
   "metadata": {},
   "outputs": [
    {
     "ename": "TypeError",
     "evalue": "'dict' object is not callable",
     "output_type": "error",
     "traceback": [
      "\u001b[0;31m---------------------------------------------------------------------------\u001b[0m",
      "\u001b[0;31mTypeError\u001b[0m                                 Traceback (most recent call last)",
      "Cell \u001b[0;32mIn[98], line 7\u001b[0m\n\u001b[1;32m      3\u001b[0m l \u001b[38;5;241m=\u001b[39m [\u001b[38;5;241m21\u001b[39m,\u001b[38;5;241m34\u001b[39m,\u001b[38;5;241m65\u001b[39m,\u001b[38;5;241m65\u001b[39m,\u001b[38;5;241m75\u001b[39m,\u001b[38;5;241m31\u001b[39m,\u001b[38;5;241m54\u001b[39m]\n\u001b[1;32m      4\u001b[0m \u001b[38;5;66;03m# print(type(l))\u001b[39;00m\n\u001b[1;32m      5\u001b[0m \n\u001b[1;32m      6\u001b[0m \u001b[38;5;66;03m# print(sorted(l))\u001b[39;00m\n\u001b[0;32m----> 7\u001b[0m \u001b[38;5;28msorted\u001b[39m(l)\n",
      "\u001b[0;31mTypeError\u001b[0m: 'dict' object is not callable"
     ]
    }
   ],
   "source": [
    "# 3]\n",
    "\n",
    "l = [21,34,65,65,75,31,54]\n",
    "# print(type(l))\n",
    "\n",
    "# print(sorted(l))\n",
    "sorted(l)\n"
   ]
  },
  {
   "cell_type": "code",
   "execution_count": 36,
   "id": "f7a1898d-88b9-48de-aecb-3394cfd0b4b9",
   "metadata": {},
   "outputs": [
    {
     "data": {
      "text/html": [
       "<div>\n",
       "<style scoped>\n",
       "    .dataframe tbody tr th:only-of-type {\n",
       "        vertical-align: middle;\n",
       "    }\n",
       "\n",
       "    .dataframe tbody tr th {\n",
       "        vertical-align: top;\n",
       "    }\n",
       "\n",
       "    .dataframe thead th {\n",
       "        text-align: right;\n",
       "    }\n",
       "</style>\n",
       "<table border=\"1\" class=\"dataframe\">\n",
       "  <thead>\n",
       "    <tr style=\"text-align: right;\">\n",
       "      <th></th>\n",
       "      <th>Name</th>\n",
       "      <th>Age</th>\n",
       "    </tr>\n",
       "  </thead>\n",
       "  <tbody>\n",
       "    <tr>\n",
       "      <th>0</th>\n",
       "      <td>jayesh</td>\n",
       "      <td>20</td>\n",
       "    </tr>\n",
       "    <tr>\n",
       "      <th>1</th>\n",
       "      <td>vishal</td>\n",
       "      <td>21</td>\n",
       "    </tr>\n",
       "    <tr>\n",
       "      <th>2</th>\n",
       "      <td>Om</td>\n",
       "      <td>22</td>\n",
       "    </tr>\n",
       "  </tbody>\n",
       "</table>\n",
       "</div>"
      ],
      "text/plain": [
       "     Name  Age\n",
       "0  jayesh   20\n",
       "1  vishal   21\n",
       "2      Om   22"
      ]
     },
     "execution_count": 36,
     "metadata": {},
     "output_type": "execute_result"
    }
   ],
   "source": [
    "# 4]\n",
    "\n",
    "data = {'Name': ['jayesh', 'vishal', 'Om'],\n",
    "    'Age': [20, 21, 22]}\n",
    "\n",
    "df = pd.DataFrame(data)\n",
    "df"
   ]
  },
  {
   "cell_type": "code",
   "execution_count": 86,
   "id": "fb2451b1-face-47e4-ab2a-f51cc8a6cf7d",
   "metadata": {},
   "outputs": [
    {
     "ename": "AttributeError",
     "evalue": "'Series' object has no attribute 'Average'",
     "output_type": "error",
     "traceback": [
      "\u001b[0;31m---------------------------------------------------------------------------\u001b[0m",
      "\u001b[0;31mAttributeError\u001b[0m                            Traceback (most recent call last)",
      "\u001b[0;32m/var/folders/rf/hs697pfs4rg_jxvz4z_jxy840000gn/T/ipykernel_1675/2777876572.py\u001b[0m in \u001b[0;36m?\u001b[0;34m()\u001b[0m\n\u001b[1;32m      4\u001b[0m         \u001b[0;34m'city'\u001b[0m\u001b[0;34m:\u001b[0m\u001b[0;34m[\u001b[0m\u001b[0;34m'pune'\u001b[0m\u001b[0;34m,\u001b[0m\u001b[0;34m'mumbai'\u001b[0m\u001b[0;34m,\u001b[0m\u001b[0;34m'chennai'\u001b[0m\u001b[0;34m]\u001b[0m\u001b[0;34m,\u001b[0m\u001b[0;34m\u001b[0m\u001b[0;34m\u001b[0m\u001b[0m\n\u001b[1;32m      5\u001b[0m         \u001b[0;34m'Age'\u001b[0m\u001b[0;34m:\u001b[0m\u001b[0;34m[\u001b[0m\u001b[0;36m21\u001b[0m\u001b[0;34m,\u001b[0m\u001b[0;36m23\u001b[0m\u001b[0;34m,\u001b[0m\u001b[0;36m26\u001b[0m\u001b[0;34m]\u001b[0m\u001b[0;34m}\u001b[0m\u001b[0;34m\u001b[0m\u001b[0;34m\u001b[0m\u001b[0m\n\u001b[1;32m      6\u001b[0m \u001b[0;34m\u001b[0m\u001b[0m\n\u001b[1;32m      7\u001b[0m \u001b[0mdf\u001b[0m \u001b[0;34m=\u001b[0m \u001b[0mpd\u001b[0m\u001b[0;34m.\u001b[0m\u001b[0mDataFrame\u001b[0m\u001b[0;34m(\u001b[0m\u001b[0mdata\u001b[0m\u001b[0;34m)\u001b[0m\u001b[0;34m\u001b[0m\u001b[0;34m\u001b[0m\u001b[0m\n\u001b[0;32m----> 8\u001b[0;31m \u001b[0mdf\u001b[0m\u001b[0;34m=\u001b[0m\u001b[0;34m[\u001b[0m\u001b[0mdf\u001b[0m\u001b[0;34m[\u001b[0m\u001b[0;34m'Age'\u001b[0m\u001b[0;34m]\u001b[0m\u001b[0;34m.\u001b[0m\u001b[0mAverage\u001b[0m\u001b[0;34m]\u001b[0m\u001b[0;34m,\u001b[0m\u001b[0;34m[\u001b[0m\u001b[0;34m[\u001b[0m\u001b[0;34m'Name'\u001b[0m\u001b[0;34m,\u001b[0m\u001b[0;34m'city'\u001b[0m\u001b[0;34m,\u001b[0m\u001b[0;34m'Age'\u001b[0m\u001b[0;34m]\u001b[0m\u001b[0;34m]\u001b[0m\u001b[0;34m\u001b[0m\u001b[0;34m\u001b[0m\u001b[0m\n\u001b[0m\u001b[1;32m      9\u001b[0m \u001b[0mdf\u001b[0m\u001b[0;34m\u001b[0m\u001b[0;34m\u001b[0m\u001b[0m\n",
      "\u001b[0;32m/opt/anaconda3/lib/python3.12/site-packages/pandas/core/generic.py\u001b[0m in \u001b[0;36m?\u001b[0;34m(self, name)\u001b[0m\n\u001b[1;32m   6295\u001b[0m             \u001b[0;32mand\u001b[0m \u001b[0mname\u001b[0m \u001b[0;32mnot\u001b[0m \u001b[0;32min\u001b[0m \u001b[0mself\u001b[0m\u001b[0;34m.\u001b[0m\u001b[0m_accessors\u001b[0m\u001b[0;34m\u001b[0m\u001b[0;34m\u001b[0m\u001b[0m\n\u001b[1;32m   6296\u001b[0m             \u001b[0;32mand\u001b[0m \u001b[0mself\u001b[0m\u001b[0;34m.\u001b[0m\u001b[0m_info_axis\u001b[0m\u001b[0;34m.\u001b[0m\u001b[0m_can_hold_identifiers_and_holds_name\u001b[0m\u001b[0;34m(\u001b[0m\u001b[0mname\u001b[0m\u001b[0;34m)\u001b[0m\u001b[0;34m\u001b[0m\u001b[0;34m\u001b[0m\u001b[0m\n\u001b[1;32m   6297\u001b[0m         \u001b[0;34m)\u001b[0m\u001b[0;34m:\u001b[0m\u001b[0;34m\u001b[0m\u001b[0;34m\u001b[0m\u001b[0m\n\u001b[1;32m   6298\u001b[0m             \u001b[0;32mreturn\u001b[0m \u001b[0mself\u001b[0m\u001b[0;34m[\u001b[0m\u001b[0mname\u001b[0m\u001b[0;34m]\u001b[0m\u001b[0;34m\u001b[0m\u001b[0;34m\u001b[0m\u001b[0m\n\u001b[0;32m-> 6299\u001b[0;31m         \u001b[0;32mreturn\u001b[0m \u001b[0mobject\u001b[0m\u001b[0;34m.\u001b[0m\u001b[0m__getattribute__\u001b[0m\u001b[0;34m(\u001b[0m\u001b[0mself\u001b[0m\u001b[0;34m,\u001b[0m \u001b[0mname\u001b[0m\u001b[0;34m)\u001b[0m\u001b[0;34m\u001b[0m\u001b[0;34m\u001b[0m\u001b[0m\n\u001b[0m",
      "\u001b[0;31mAttributeError\u001b[0m: 'Series' object has no attribute 'Average'"
     ]
    }
   ],
   "source": [
    "# 5]\n",
    "\n",
    "data = {'Name':['jayesh', 'vishal', 'Om'],\n",
    "        'city':['pune','mumbai','chennai'],\n",
    "        'Age':[21,23,26]}\n",
    "\n",
    "df = pd.DataFrame(data)\n",
    "df=[df['Age'].Average],[['Name','city','Age']]\n",
    "df"
   ]
  },
  {
   "cell_type": "code",
   "execution_count": 8,
   "id": "e6572810-0fb5-4457-8c90-1a0f3aae0d0d",
   "metadata": {},
   "outputs": [],
   "source": [
    "# 6]"
   ]
  },
  {
   "cell_type": "code",
   "execution_count": 108,
   "id": "9ee8f662-7d24-40d4-8dfc-0eea15f0f524",
   "metadata": {},
   "outputs": [
    {
     "data": {
      "text/plain": [
       "<function __main__.<lambda>(age)>"
      ]
     },
     "execution_count": 108,
     "metadata": {},
     "output_type": "execute_result"
    }
   ],
   "source": [
    "# 7]\n",
    "\n",
    "age = (21,23,25,27)\n",
    "\n",
    "add_two = lambda age: age + 2"
   ]
  },
  {
   "cell_type": "code",
   "execution_count": 12,
   "id": "b83e05a8-d333-4d89-a6b1-24bd5d395f00",
   "metadata": {},
   "outputs": [],
   "source": [
    "# 8]"
   ]
  },
  {
   "cell_type": "code",
   "execution_count": 14,
   "id": "02266191-8cbe-40fe-9fc9-2c482f034bc8",
   "metadata": {},
   "outputs": [],
   "source": [
    "# 9]"
   ]
  },
  {
   "cell_type": "code",
   "execution_count": null,
   "id": "a14a5782-147e-45a7-b582-3e9980131d6b",
   "metadata": {},
   "outputs": [],
   "source": [
    "# 10]"
   ]
  },
  {
   "cell_type": "code",
   "execution_count": null,
   "id": "29439279-7a14-4a68-86ea-f4ec1ffacfdd",
   "metadata": {},
   "outputs": [],
   "source": []
  },
  {
   "cell_type": "code",
   "execution_count": null,
   "id": "0a5ede87-9e3f-4057-8061-e33bddf08493",
   "metadata": {},
   "outputs": [],
   "source": []
  },
  {
   "cell_type": "code",
   "execution_count": null,
   "id": "1610b089-5a03-4989-b2b6-b71015e704f0",
   "metadata": {},
   "outputs": [],
   "source": []
  },
  {
   "cell_type": "code",
   "execution_count": null,
   "id": "2e084410-9ee8-4f46-ab12-f59e8a4b84b6",
   "metadata": {},
   "outputs": [],
   "source": []
  },
  {
   "cell_type": "code",
   "execution_count": null,
   "id": "a90cb63e-2deb-4edb-99c3-e95bb4c8e0f9",
   "metadata": {},
   "outputs": [],
   "source": []
  }
 ],
 "metadata": {
  "kernelspec": {
   "display_name": "Python [conda env:base] *",
   "language": "python",
   "name": "conda-base-py"
  },
  "language_info": {
   "codemirror_mode": {
    "name": "ipython",
    "version": 3
   },
   "file_extension": ".py",
   "mimetype": "text/x-python",
   "name": "python",
   "nbconvert_exporter": "python",
   "pygments_lexer": "ipython3",
   "version": "3.12.7"
  }
 },
 "nbformat": 4,
 "nbformat_minor": 5
}
